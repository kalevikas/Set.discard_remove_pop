{
 "cells": [
  {
   "cell_type": "markdown",
   "id": "86173114",
   "metadata": {},
   "source": [
    "# Set.discard(),.remove() and .pop()"
   ]
  },
  {
   "cell_type": "markdown",
   "id": "200a0b3b",
   "metadata": {},
   "source": [
    "## .remove(x)"
   ]
  },
  {
   "cell_type": "markdown",
   "id": "aca05b4d",
   "metadata": {},
   "source": [
    "- This operation removes element x from the set.\n",
    "- If element x does not exist, it raises a KeyError.\n",
    "- The .remove(x) operation returns None.\n",
    "\n"
   ]
  },
  {
   "cell_type": "markdown",
   "id": "ca12b9ef",
   "metadata": {},
   "source": [
    "#### Example"
   ]
  },
  {
   "cell_type": "code",
   "execution_count": 2,
   "id": "95250333",
   "metadata": {},
   "outputs": [
    {
     "name": "stdout",
     "output_type": "stream",
     "text": [
      "{1, 2, 3, 4, 6, 7, 8, 9}\n"
     ]
    }
   ],
   "source": [
    "s = set([1, 2, 3, 4, 5, 6, 7, 8, 9])\n",
    "s.remove(5)\n",
    "print(s)"
   ]
  },
  {
   "cell_type": "code",
   "execution_count": 6,
   "id": "c76d4e8f",
   "metadata": {},
   "outputs": [
    {
     "ename": "KeyError",
     "evalue": "4",
     "output_type": "error",
     "traceback": [
      "\u001b[1;31m---------------------------------------------------------------------------\u001b[0m",
      "\u001b[1;31mKeyError\u001b[0m                                  Traceback (most recent call last)",
      "\u001b[1;32m<ipython-input-6-6da2550ac27c>\u001b[0m in \u001b[0;36m<module>\u001b[1;34m\u001b[0m\n\u001b[0;32m      1\u001b[0m \u001b[0mset\u001b[0m\u001b[1;33m(\u001b[0m\u001b[1;33m[\u001b[0m\u001b[1;36m1\u001b[0m\u001b[1;33m,\u001b[0m \u001b[1;36m2\u001b[0m\u001b[1;33m,\u001b[0m \u001b[1;36m3\u001b[0m\u001b[1;33m,\u001b[0m \u001b[1;36m4\u001b[0m\u001b[1;33m,\u001b[0m \u001b[1;36m6\u001b[0m\u001b[1;33m,\u001b[0m \u001b[1;36m7\u001b[0m\u001b[1;33m,\u001b[0m \u001b[1;36m8\u001b[0m\u001b[1;33m,\u001b[0m \u001b[1;36m9\u001b[0m\u001b[1;33m]\u001b[0m\u001b[1;33m)\u001b[0m\u001b[1;33m\u001b[0m\u001b[1;33m\u001b[0m\u001b[0m\n\u001b[1;32m----> 2\u001b[1;33m \u001b[0mprint\u001b[0m\u001b[1;33m(\u001b[0m\u001b[0ms\u001b[0m\u001b[1;33m.\u001b[0m\u001b[0mremove\u001b[0m\u001b[1;33m(\u001b[0m\u001b[1;36m4\u001b[0m\u001b[1;33m)\u001b[0m\u001b[1;33m)\u001b[0m\u001b[1;33m\u001b[0m\u001b[1;33m\u001b[0m\u001b[0m\n\u001b[0m",
      "\u001b[1;31mKeyError\u001b[0m: 4"
     ]
    }
   ],
   "source": [
    "set([1, 2, 3, 4, 6, 7, 8, 9])\n",
    "print(s.remove(4))\n"
   ]
  },
  {
   "cell_type": "code",
   "execution_count": 7,
   "id": "5e0069d1",
   "metadata": {},
   "outputs": [
    {
     "name": "stdout",
     "output_type": "stream",
     "text": [
      "{1, 2, 3, 6, 7, 8, 9}\n"
     ]
    }
   ],
   "source": [
    "print(s)"
   ]
  },
  {
   "cell_type": "code",
   "execution_count": 8,
   "id": "1cc92731",
   "metadata": {},
   "outputs": [
    {
     "ename": "KeyError",
     "evalue": "0",
     "output_type": "error",
     "traceback": [
      "\u001b[1;31m---------------------------------------------------------------------------\u001b[0m",
      "\u001b[1;31mKeyError\u001b[0m                                  Traceback (most recent call last)",
      "\u001b[1;32m<ipython-input-8-673036a16a6d>\u001b[0m in \u001b[0;36m<module>\u001b[1;34m\u001b[0m\n\u001b[1;32m----> 1\u001b[1;33m \u001b[0ms\u001b[0m\u001b[1;33m.\u001b[0m\u001b[0mremove\u001b[0m\u001b[1;33m(\u001b[0m\u001b[1;36m0\u001b[0m\u001b[1;33m)\u001b[0m\u001b[1;33m\u001b[0m\u001b[1;33m\u001b[0m\u001b[0m\n\u001b[0m\u001b[0;32m      2\u001b[0m \u001b[0mprint\u001b[0m\u001b[1;33m(\u001b[0m\u001b[0ms\u001b[0m\u001b[1;33m)\u001b[0m\u001b[1;33m\u001b[0m\u001b[1;33m\u001b[0m\u001b[0m\n",
      "\u001b[1;31mKeyError\u001b[0m: 0"
     ]
    }
   ],
   "source": [
    "s.remove(0)\n",
    "print(s)"
   ]
  },
  {
   "cell_type": "markdown",
   "id": "affdbbbe",
   "metadata": {},
   "source": [
    "# .discard(x)\n",
    "- This operation also removes element x from the set.\n",
    "- If element x does not exist, it does not raise a KeyError.\n",
    "- The .discard(x) operation returns None."
   ]
  },
  {
   "cell_type": "markdown",
   "id": "2a60f23d",
   "metadata": {},
   "source": [
    "#### Example"
   ]
  },
  {
   "cell_type": "code",
   "execution_count": 9,
   "id": "a7a1a0f8",
   "metadata": {},
   "outputs": [
    {
     "name": "stdout",
     "output_type": "stream",
     "text": [
      "{1, 2, 3, 4, 6, 7, 8, 9}\n"
     ]
    }
   ],
   "source": [
    "s = set([1, 2, 3, 4, 5, 6, 7, 8, 9])\n",
    "s.discard(5)\n",
    "print(s)"
   ]
  },
  {
   "cell_type": "code",
   "execution_count": 10,
   "id": "8cbf0226",
   "metadata": {},
   "outputs": [
    {
     "name": "stdout",
     "output_type": "stream",
     "text": [
      "None\n"
     ]
    }
   ],
   "source": [
    "set([1, 2, 3, 4, 6, 7, 8, 9])\n",
    "print(s.discard(4))"
   ]
  },
  {
   "cell_type": "code",
   "execution_count": 11,
   "id": "2a62341e",
   "metadata": {},
   "outputs": [
    {
     "name": "stdout",
     "output_type": "stream",
     "text": [
      "{1, 2, 3, 6, 7, 8, 9}\n"
     ]
    }
   ],
   "source": [
    "print(s)"
   ]
  },
  {
   "cell_type": "code",
   "execution_count": 12,
   "id": "a43ffc76",
   "metadata": {},
   "outputs": [
    {
     "name": "stdout",
     "output_type": "stream",
     "text": [
      "{1, 2, 3, 6, 7, 8, 9}\n"
     ]
    }
   ],
   "source": [
    "set([1, 2, 3, 6, 7, 8, 9])\n",
    "s.discard(0)\n",
    "print(s)"
   ]
  },
  {
   "cell_type": "markdown",
   "id": "b8cb585d",
   "metadata": {},
   "source": [
    "# .pop()"
   ]
  },
  {
   "cell_type": "markdown",
   "id": "66e728b0",
   "metadata": {},
   "source": [
    "- This operation removes and return an arbitrary element from the set.\n",
    "- If there are no elements to remove, it raises a KeyError."
   ]
  },
  {
   "cell_type": "code",
   "execution_count": 13,
   "id": "125a8657",
   "metadata": {},
   "outputs": [
    {
     "name": "stdout",
     "output_type": "stream",
     "text": [
      "1\n"
     ]
    }
   ],
   "source": [
    "s = set([1])\n",
    "print(s.pop())"
   ]
  },
  {
   "cell_type": "code",
   "execution_count": 14,
   "id": "57c5f437",
   "metadata": {},
   "outputs": [
    {
     "name": "stdout",
     "output_type": "stream",
     "text": [
      "set()\n"
     ]
    }
   ],
   "source": [
    "print(s)"
   ]
  },
  {
   "cell_type": "code",
   "execution_count": 15,
   "id": "6758c2d3",
   "metadata": {},
   "outputs": [
    {
     "ename": "KeyError",
     "evalue": "'pop from an empty set'",
     "output_type": "error",
     "traceback": [
      "\u001b[1;31m---------------------------------------------------------------------------\u001b[0m",
      "\u001b[1;31mKeyError\u001b[0m                                  Traceback (most recent call last)",
      "\u001b[1;32m<ipython-input-15-3cdce27576b7>\u001b[0m in \u001b[0;36m<module>\u001b[1;34m\u001b[0m\n\u001b[1;32m----> 1\u001b[1;33m \u001b[0mprint\u001b[0m\u001b[1;33m(\u001b[0m\u001b[0ms\u001b[0m\u001b[1;33m.\u001b[0m\u001b[0mpop\u001b[0m\u001b[1;33m(\u001b[0m\u001b[1;33m)\u001b[0m\u001b[1;33m)\u001b[0m\u001b[1;33m\u001b[0m\u001b[1;33m\u001b[0m\u001b[0m\n\u001b[0m",
      "\u001b[1;31mKeyError\u001b[0m: 'pop from an empty set'"
     ]
    }
   ],
   "source": [
    "\n",
    "print(s.pop())"
   ]
  },
  {
   "cell_type": "markdown",
   "id": "019de07d",
   "metadata": {},
   "source": [
    "# Task"
   ]
  },
  {
   "cell_type": "code",
   "execution_count": null,
   "id": "348979bd",
   "metadata": {},
   "outputs": [],
   "source": [
    "You have a non-empty set S, and you have to execute N commands given in N lines.\n",
    "\n",
    "The commands will be pop, remove and discard."
   ]
  },
  {
   "cell_type": "markdown",
   "id": "38957dd9",
   "metadata": {},
   "source": [
    "# Input Format\n",
    "\n",
    "- The first line contains integer n, the number of elements in the set s.\n",
    "- The second line contains n space separated elements of set s. All of the elements are non-negative integers, less than or equal to 9.\n",
    "- The third line contains integer N, the number of commands.\n",
    "- The next N lines contains either pop, remove and/or discard commands followed by their associated value."
   ]
  },
  {
   "cell_type": "markdown",
   "id": "f9a75bfd",
   "metadata": {},
   "source": [
    "# Output Format\n",
    "\n",
    "- Print the sum of the elements of set s on a single line."
   ]
  },
  {
   "cell_type": "code",
   "execution_count": null,
   "id": "46997aac",
   "metadata": {},
   "outputs": [],
   "source": [
    "Sample Input\n",
    "\n",
    "9\n",
    "1 2 3 4 5 6 7 8 9\n",
    "10\n",
    "pop\n",
    "remove 9\n",
    "discard 9\n",
    "discard 8\n",
    "remove 7\n",
    "pop \n",
    "discard 6\n",
    "remove 5\n",
    "pop \n",
    "discard 5\n",
    "\n",
    "Sample Output\n",
    "\n",
    "4"
   ]
  },
  {
   "cell_type": "markdown",
   "id": "3b61ebab",
   "metadata": {},
   "source": [
    "# Explanation\n",
    "\n",
    "- After completing these 10 operations on the set, we get set([4]). Hence, the sum is 4.\n",
    "\n",
    "- **Note:** Convert the elements of set s to integers while you are assigning them. To ensure the proper input of the set, we have added the first two lines of code to the editor."
   ]
  },
  {
   "cell_type": "markdown",
   "id": "0e33f059",
   "metadata": {},
   "source": [
    "Asterisk expands list or tuple to positional arguments. If we have a=[1,2,3] then function(*a) is equal to function(1,2,3)"
   ]
  },
  {
   "cell_type": "code",
   "execution_count": null,
   "id": "c0ad524a",
   "metadata": {},
   "outputs": [],
   "source": [
    "n = int(input())                          # the number of element in set s ,is stored in n.\n",
    "s = set(map(int, input().split()))        # here we get input from 1 to 9 ,split it,convert into integer and stored in set.\n",
    "                                          # {1, 2, 3, 4, 5, 6, 7, 8, 9}\n",
    "N=int(input())                            # the number of command   \n",
    "for i in range(N):                        # the loop will iterate N times.\n",
    "    inpt_command=input()                  # get command from user.and stored it in variable inpt_command.\n",
    "    if inpt_command==\"pop\":               # pop automaically removes last element.\n",
    "        s.pop()                           \n",
    "    else:\n",
    "        command,value=inpt_command.split() #  if input is in command and value form then command store in command and value in value.\n",
    "        if command==\"discard\":\n",
    "            s.discard(int(value))\n",
    "        else:\n",
    "            s.remove(int(value))\n",
    "print(sum(s))\n",
    "            "
   ]
  },
  {
   "cell_type": "code",
   "execution_count": 20,
   "id": "a6e62678",
   "metadata": {},
   "outputs": [
    {
     "name": "stdout",
     "output_type": "stream",
     "text": [
      "remove 9\n",
      "remove\n"
     ]
    }
   ],
   "source": [
    "# n = int(input())                          # the number of element in set s ,is stored in n.\n",
    "# s = set(map(int, input().split())) \n",
    "# print(s)\n",
    "inpt_command=input() \n",
    "command,value=inpt_command.split()\n",
    "print(command)"
   ]
  },
  {
   "cell_type": "markdown",
   "id": "d712e479",
   "metadata": {},
   "source": [
    "# method 2"
   ]
  },
  {
   "cell_type": "code",
   "execution_count": 21,
   "id": "926272cf",
   "metadata": {},
   "outputs": [
    {
     "name": "stdout",
     "output_type": "stream",
     "text": [
      "9\n",
      "1 2 3 4 5 6 7 8 9\n",
      "10\n",
      "pop\n",
      "remove 9\n",
      "discard 9\n",
      "discard 8\n",
      "remove 7\n",
      "pop\n",
      "discard 6\n",
      "remove 5\n",
      "pop\n",
      "discard 5\n",
      "4\n"
     ]
    }
   ],
   "source": [
    "n=int(input())\n",
    "\n",
    "s = set(map(int,input().split()))\n",
    "\n",
    "N=int(input())\n",
    "\n",
    "for i in range(N) :\n",
    "\n",
    "    choice=input().split()\n",
    "    if choice[0]==\"pop\" :\n",
    "        s.pop()\n",
    "    elif choice[0]==\"remove\" :\n",
    "        s.remove(int(choice[1]))\n",
    "    elif choice[0]==\"discard\" :\n",
    "        s.discard(int(choice[1]))\n",
    "print (sum(s))"
   ]
  },
  {
   "cell_type": "code",
   "execution_count": null,
   "id": "af76743d",
   "metadata": {},
   "outputs": [],
   "source": []
  }
 ],
 "metadata": {
  "kernelspec": {
   "display_name": "Python 3",
   "language": "python",
   "name": "python3"
  },
  "language_info": {
   "codemirror_mode": {
    "name": "ipython",
    "version": 3
   },
   "file_extension": ".py",
   "mimetype": "text/x-python",
   "name": "python",
   "nbconvert_exporter": "python",
   "pygments_lexer": "ipython3",
   "version": "3.8.8"
  }
 },
 "nbformat": 4,
 "nbformat_minor": 5
}
